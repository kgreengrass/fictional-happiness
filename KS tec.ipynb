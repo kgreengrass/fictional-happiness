{
 "cells": [
  {
   "cell_type": "code",
   "execution_count": 2,
   "metadata": {},
   "outputs": [],
   "source": [
    "import numpy as np\n",
    "import pandas as pd\n",
    "import matplotlib.pyplot as plt\n",
    "import requests\n",
    "import seaborn as sns\n",
    "from datetime import datetime"
   ]
  },
  {
   "cell_type": "code",
   "execution_count": 3,
   "metadata": {},
   "outputs": [],
   "source": [
    "ks = pd.read_csv('ks-projects-201801.csv') #read the csv file"
   ]
  },
  {
   "cell_type": "code",
   "execution_count": 4,
   "metadata": {},
   "outputs": [],
   "source": [
    "tec = ks[ks['main_category'] == 'Technology'] # narrow it down to just the tech category"
   ]
  },
  {
   "cell_type": "code",
   "execution_count": 5,
   "metadata": {},
   "outputs": [],
   "source": [
    "tecl = tec['launched'].astype('datetime64[ns]').dt.date #convert the launch date to not have time included "
   ]
  },
  {
   "cell_type": "code",
   "execution_count": 6,
   "metadata": {},
   "outputs": [],
   "source": [
    "tecd = tec['deadline'].astype('datetime64[ns]').dt.date # same for deadline"
   ]
  },
  {
   "cell_type": "code",
   "execution_count": 54,
   "metadata": {},
   "outputs": [
    {
     "data": {
      "text/html": [
       "<div>\n",
       "<style scoped>\n",
       "    .dataframe tbody tr th:only-of-type {\n",
       "        vertical-align: middle;\n",
       "    }\n",
       "\n",
       "    .dataframe tbody tr th {\n",
       "        vertical-align: top;\n",
       "    }\n",
       "\n",
       "    .dataframe thead th {\n",
       "        text-align: right;\n",
       "    }\n",
       "</style>\n",
       "<table border=\"1\" class=\"dataframe\">\n",
       "  <thead>\n",
       "    <tr style=\"text-align: right;\">\n",
       "      <th></th>\n",
       "      <th>backers</th>\n",
       "      <th>Duration</th>\n",
       "    </tr>\n",
       "  </thead>\n",
       "  <tbody>\n",
       "    <tr>\n",
       "      <td>65</td>\n",
       "      <td>0</td>\n",
       "      <td>30</td>\n",
       "    </tr>\n",
       "    <tr>\n",
       "      <td>67</td>\n",
       "      <td>0</td>\n",
       "      <td>30</td>\n",
       "    </tr>\n",
       "    <tr>\n",
       "      <td>70</td>\n",
       "      <td>15</td>\n",
       "      <td>25</td>\n",
       "    </tr>\n",
       "    <tr>\n",
       "      <td>71</td>\n",
       "      <td>3</td>\n",
       "      <td>30</td>\n",
       "    </tr>\n",
       "    <tr>\n",
       "      <td>98</td>\n",
       "      <td>3</td>\n",
       "      <td>30</td>\n",
       "    </tr>\n",
       "    <tr>\n",
       "      <td>...</td>\n",
       "      <td>...</td>\n",
       "      <td>...</td>\n",
       "    </tr>\n",
       "    <tr>\n",
       "      <td>378591</td>\n",
       "      <td>0</td>\n",
       "      <td>30</td>\n",
       "    </tr>\n",
       "    <tr>\n",
       "      <td>378611</td>\n",
       "      <td>2</td>\n",
       "      <td>60</td>\n",
       "    </tr>\n",
       "    <tr>\n",
       "      <td>378643</td>\n",
       "      <td>0</td>\n",
       "      <td>21</td>\n",
       "    </tr>\n",
       "    <tr>\n",
       "      <td>378650</td>\n",
       "      <td>0</td>\n",
       "      <td>38</td>\n",
       "    </tr>\n",
       "    <tr>\n",
       "      <td>378659</td>\n",
       "      <td>6</td>\n",
       "      <td>31</td>\n",
       "    </tr>\n",
       "  </tbody>\n",
       "</table>\n",
       "<p>32569 rows × 2 columns</p>\n",
       "</div>"
      ],
      "text/plain": [
       "        backers  Duration\n",
       "65            0        30\n",
       "67            0        30\n",
       "70           15        25\n",
       "71            3        30\n",
       "98            3        30\n",
       "...         ...       ...\n",
       "378591        0        30\n",
       "378611        2        60\n",
       "378643        0        21\n",
       "378650        0        38\n",
       "378659        6        31\n",
       "\n",
       "[32569 rows x 2 columns]"
      ]
     },
     "execution_count": 54,
     "metadata": {},
     "output_type": "execute_result"
    }
   ],
   "source": [
    "df3 = pd.DataFrame({'backers':tec['backers'],\n",
    "                    'Duration': (abs(tecd-tecl)).dt.days})\n",
    "#make a dataframe with just the times in, and a difference between them\n",
    "df3"
   ]
  },
  {
   "cell_type": "code",
   "execution_count": 8,
   "metadata": {},
   "outputs": [],
   "source": [
    "#sns_plot = sns.jointplot(data=df3, x='backers', y='Duration', kind='kde')\n",
    "#sns_plot.savefig(\"output.png\")  # makes a heatmap style plot across the whole tech category "
   ]
  },
  {
   "cell_type": "code",
   "execution_count": 9,
   "metadata": {},
   "outputs": [],
   "source": [
    "tecsuc = tec[tec['state'] == 'successful'] #just the successful ones"
   ]
  },
  {
   "cell_type": "code",
   "execution_count": 10,
   "metadata": {},
   "outputs": [],
   "source": [
    "tecfailed = tec[tec['state'] == 'failed'] # just the failed ones"
   ]
  },
  {
   "cell_type": "code",
   "execution_count": 11,
   "metadata": {},
   "outputs": [],
   "source": [
    "df4 = pd.DataFrame({'backers': tecfailed['backers'],'Duration': (abs(tecd-tecl)).dt.days}) #dataframne for the failed ones"
   ]
  },
  {
   "cell_type": "code",
   "execution_count": 12,
   "metadata": {},
   "outputs": [],
   "source": [
    "#sns_plot1 = sns.jointplot(data=df4, x='backers', y='Duration', kind='kde', color='orchid' )\n",
    "#sns_plot1.savefig(\"fail.png\")  # makes a heatmap style plot across the failed ones"
   ]
  },
  {
   "cell_type": "code",
   "execution_count": 13,
   "metadata": {},
   "outputs": [],
   "source": [
    "df5 = pd.DataFrame({'backers': tecsuc['backers'],'Duration': (abs(tecd-tecl)).dt.days}) # same for the successful ones "
   ]
  },
  {
   "cell_type": "code",
   "execution_count": 14,
   "metadata": {},
   "outputs": [],
   "source": [
    "#sns_plot2 = sns.jointplot(data=df5, x='backers', y='Duration', kind='kde', color='teal' )\n",
    "#sns_plot1.savefig(\"success.png\") # plot"
   ]
  },
  {
   "cell_type": "code",
   "execution_count": null,
   "metadata": {},
   "outputs": [],
   "source": []
  },
  {
   "cell_type": "code",
   "execution_count": 15,
   "metadata": {},
   "outputs": [
    {
     "data": {
      "image/png": "[encoded data removed]",
      "text/plain": [
       "<Figure size 432x288 with 1 Axes>"
      ]
     },
     "metadata": {
      "needs_background": "light"
     },
     "output_type": "display_data"
    }
   ],
   "source": [
    "plt.hist([tecfailed['backers']], color='orchid', range=(0,300), alpha=0.6)\n",
    "plt.hist([tecsuc['backers']], color='teal', range=(0,300), alpha=0.6)\n",
    "plt.xlabel('Backers')\n",
    "plt.ylabel('Campaigns')\n",
    "plt.show()  #histogram of the comparison"
   ]
  },
  {
   "cell_type": "code",
   "execution_count": 23,
   "metadata": {},
   "outputs": [
    {
     "data": {
      "image/png": "[encoded data removed]",
      "text/plain": [
       "<Figure size 432x288 with 1 Axes>"
      ]
     },
     "metadata": {
      "needs_background": "light"
     },
     "output_type": "display_data"
    }
   ],
   "source": [
    "plt.hist([tecfailed['backers']], color='orchid',  bins=60)\n",
    "#plt.hist([tecsuc['backers']], color='teal', range=(0,300), alpha=0.6)\n",
    "plt.xlabel('Backers')\n",
    "plt.ylabel('Campaigns')\n",
    "plt.title('Failed Campaigns')\n",
    "plt.show()  #histogram of just the failures "
   ]
  },
  {
   "cell_type": "code",
   "execution_count": 26,
   "metadata": {},
   "outputs": [],
   "source": [
    "tfe = tecfailed[tecfailed['backers'] >= 100] # ones with more than 100 supporters"
   ]
  },
  {
   "cell_type": "code",
   "execution_count": 29,
   "metadata": {},
   "outputs": [
    {
     "data": {
      "image/png": "[encoded data removed]",
      "text/plain": [
       "<Figure size 432x288 with 1 Axes>"
      ]
     },
     "metadata": {
      "needs_background": "light"
     },
     "output_type": "display_data"
    }
   ],
   "source": [
    "plt.hist([tfe['usd_goal_real']], color='orchid',  bins=60)\n",
    "plt.xlabel('Goal amount in millions')\n",
    "plt.ylabel('Campaigns')\n",
    "plt.title('Failed Campaigns with more than 100 backers') #ended up being in millions because of the two star wars things\n",
    "plt.show()  #histogram of fails goals"
   ]
  },
  {
   "cell_type": "code",
   "execution_count": 36,
   "metadata": {},
   "outputs": [],
   "source": [
    "tfe1 = tfe[tfe['usd_goal_real'] <= 1000000] # narrow it down to the ones lower than "
   ]
  },
  {
   "cell_type": "code",
   "execution_count": 33,
   "metadata": {},
   "outputs": [],
   "source": [
    "df6 = pd.DataFrame({'Backers': tfe1['backers'],'Goal': tfe1['usd_goal_real']})"
   ]
  },
  {
   "cell_type": "code",
   "execution_count": 35,
   "metadata": {},
   "outputs": [
    {
     "data": {
      "text/html": [
       "<div>\n",
       "<style scoped>\n",
       "    .dataframe tbody tr th:only-of-type {\n",
       "        vertical-align: middle;\n",
       "    }\n",
       "\n",
       "    .dataframe tbody tr th {\n",
       "        vertical-align: top;\n",
       "    }\n",
       "\n",
       "    .dataframe thead th {\n",
       "        text-align: right;\n",
       "    }\n",
       "</style>\n",
       "<table border=\"1\" class=\"dataframe\">\n",
       "  <thead>\n",
       "    <tr style=\"text-align: right;\">\n",
       "      <th></th>\n",
       "      <th>Backers</th>\n",
       "      <th>Goal</th>\n",
       "    </tr>\n",
       "  </thead>\n",
       "  <tbody>\n",
       "    <tr>\n",
       "      <td>count</td>\n",
       "      <td>880.00000</td>\n",
       "      <td>880.000000</td>\n",
       "    </tr>\n",
       "    <tr>\n",
       "      <td>mean</td>\n",
       "      <td>243.88750</td>\n",
       "      <td>87546.080716</td>\n",
       "    </tr>\n",
       "    <tr>\n",
       "      <td>std</td>\n",
       "      <td>247.03715</td>\n",
       "      <td>114280.724096</td>\n",
       "    </tr>\n",
       "    <tr>\n",
       "      <td>min</td>\n",
       "      <td>100.00000</td>\n",
       "      <td>2000.000000</td>\n",
       "    </tr>\n",
       "    <tr>\n",
       "      <td>25%</td>\n",
       "      <td>124.00000</td>\n",
       "      <td>30000.000000</td>\n",
       "    </tr>\n",
       "    <tr>\n",
       "      <td>50%</td>\n",
       "      <td>170.50000</td>\n",
       "      <td>50000.000000</td>\n",
       "    </tr>\n",
       "    <tr>\n",
       "      <td>75%</td>\n",
       "      <td>270.25000</td>\n",
       "      <td>100000.000000</td>\n",
       "    </tr>\n",
       "    <tr>\n",
       "      <td>max</td>\n",
       "      <td>3404.00000</td>\n",
       "      <td>1000000.000000</td>\n",
       "    </tr>\n",
       "  </tbody>\n",
       "</table>\n",
       "</div>"
      ],
      "text/plain": [
       "          Backers            Goal\n",
       "count   880.00000      880.000000\n",
       "mean    243.88750    87546.080716\n",
       "std     247.03715   114280.724096\n",
       "min     100.00000     2000.000000\n",
       "25%     124.00000    30000.000000\n",
       "50%     170.50000    50000.000000\n",
       "75%     270.25000   100000.000000\n",
       "max    3404.00000  1000000.000000"
      ]
     },
     "execution_count": 35,
     "metadata": {},
     "output_type": "execute_result"
    }
   ],
   "source": [
    "df6.describe()"
   ]
  },
  {
   "cell_type": "code",
   "execution_count": 37,
   "metadata": {},
   "outputs": [],
   "source": [
    "tfe1 = tfe[tfe['usd_goal_real'] <= 100000] #take out the top 25%"
   ]
  },
  {
   "cell_type": "code",
   "execution_count": 38,
   "metadata": {},
   "outputs": [],
   "source": [
    "df6 = pd.DataFrame({'Backers': tfe1['backers'],'Goal': tfe1['usd_goal_real']})"
   ]
  },
  {
   "cell_type": "code",
   "execution_count": 41,
   "metadata": {},
   "outputs": [
    {
     "data": {
      "image/png": "[encoded data removed]",
      "text/plain": [
       "<Figure size 432x288 with 1 Axes>"
      ]
     },
     "metadata": {
      "needs_background": "light"
     },
     "output_type": "display_data"
    }
   ],
   "source": [
    "plt.hist([df6['Goal']], color='orchid', bins=50) #spikey one\n",
    "plt.xlabel('Goal amount ($)')\n",
    "plt.title('Failed Campaigns with more than 100 backers and goal of less than $100,000')\n",
    "plt.ylabel('Campaigns')\n",
    "plt.show()"
   ]
  },
  {
   "cell_type": "code",
   "execution_count": 43,
   "metadata": {},
   "outputs": [],
   "source": [
    "tse = tecsuc[tecsuc['backers'] >= 1] #do a similar hsitogram for the successful ones\n",
    "tse1 = tse[tse['usd_goal_real'] <= 100000]\n",
    "df7 = pd.DataFrame({'Backers': tse1['backers'],'Goal': tse1['usd_goal_real']})"
   ]
  },
  {
   "cell_type": "code",
   "execution_count": 46,
   "metadata": {},
   "outputs": [
    {
     "data": {
      "image/png": "[encoded data removed]",
      "text/plain": [
       "<Figure size 432x288 with 1 Axes>"
      ]
     },
     "metadata": {
      "needs_background": "light"
     },
     "output_type": "display_data"
    }
   ],
   "source": [
    "plt.hist([df7['Goal']], color='teal', bins=40)\n",
    "plt.xlabel('Goal amount ($)')\n",
    "plt.title('Successful Campaigns with more than 0 backers and goal of less than $100,000')\n",
    "plt.ylabel('Campaigns')\n",
    "plt.show()"
   ]
  },
  {
   "cell_type": "code",
   "execution_count": 47,
   "metadata": {},
   "outputs": [
    {
     "data": {
      "text/plain": [
       "Text(0, 0.5, 'Campaigns')"
      ]
     },
     "execution_count": 47,
     "metadata": {},
     "output_type": "execute_result"
    },
    {
     "data": {
      "image/png": "[encoded data removed]",
      "text/plain": [
       "<Figure size 432x288 with 1 Axes>"
      ]
     },
     "metadata": {
      "needs_background": "light"
     },
     "output_type": "display_data"
    }
   ],
   "source": [
    "plt.hist([df7['Goal']], color='teal', bins=20, alpha=0.5) #combined histogram\n",
    "plt.hist([df6['Goal']], color='orchid', bins=20, alpha=0.5)\n",
    "\n",
    "plt.xlabel('Goal amount ($)')\n",
    "plt.title('Campaigns with a goal of less than $100,000')\n",
    "plt.ylabel('Campaigns')"
   ]
  },
  {
   "cell_type": "code",
   "execution_count": 48,
   "metadata": {},
   "outputs": [
    {
     "data": {
      "text/plain": [
       "497.3225000000003"
      ]
     },
     "execution_count": 48,
     "metadata": {},
     "output_type": "execute_result"
    }
   ],
   "source": [
    "tg = [tecsuc['usd_goal_real']]#deciding how much will be a 'low goal'\n",
    "np.percentile(tg, 5)"
   ]
  },
  {
   "cell_type": "code",
   "execution_count": 49,
   "metadata": {},
   "outputs": [],
   "source": [
    "#category issssss.....\n",
    "c =  ks[ks['state'] == 'successful']\n",
    "#dance, theater, comics are successful\n",
    "c = c[c['main_category'] != 'Music']\n",
    "c = c[c['main_category'] != 'Food']\n",
    "c = c[c['main_category'] != 'Fashion']\n",
    "c = c[c['main_category'] != 'Games']\n",
    "c = c[c['main_category'] != 'Film & Video']\n",
    "c = c[c['main_category'] != 'Design']\n",
    "c = c[c['main_category'] != 'Photography']\n",
    "c = c[c['main_category'] != 'Art']\n",
    "c = c[c['main_category'] != 'Crafts']\n",
    "c = c[c['main_category'] != 'Journalism']\n",
    "c = c[c['main_category'] != 'Photography']\n",
    "c = c[c['main_category'] != 'Publishing']\n",
    "c = c[c['main_category'] != 'Technology']\n",
    "#remove all te categories that we dont want to be included"
   ]
  },
  {
   "cell_type": "code",
   "execution_count": 50,
   "metadata": {},
   "outputs": [
    {
     "data": {
      "text/plain": [
       "<seaborn.axisgrid.FacetGrid at 0x1c3beefee88>"
      ]
     },
     "execution_count": 50,
     "metadata": {},
     "output_type": "execute_result"
    },
    {
     "data": {
      "image/png": "[encoded data removed]",
      "text/plain": [
       "<Figure size 442x360 with 1 Axes>"
      ]
     },
     "metadata": {
      "needs_background": "light"
     },
     "output_type": "display_data"
    }
   ],
   "source": [
    "tsn = pd.DataFrame({'main_category': c['main_category'],\n",
    "    'Goal': c['usd_goal_real'],\n",
    "       'Pledged':c['usd_pledged_real'], \n",
    "       'Difference': (c['usd_pledged_real']-c['usd_goal_real']) })\n",
    "sns.lmplot(data=tsn, x='Goal', y='Pledged', hue='main_category') #plot of successful categories "
   ]
  },
  {
   "cell_type": "code",
   "execution_count": 51,
   "metadata": {},
   "outputs": [],
   "source": [
    "#category issssss.....\n",
    "c =  ks[ks['state'] == 'successful']\n",
    "#plot to compare most and least successful categories \n",
    "c = c[c['main_category'] != 'Music']\n",
    "c = c[c['main_category'] != 'Food']\n",
    "c = c[c['main_category'] != 'Fashion']\n",
    "c = c[c['main_category'] != 'Games']\n",
    "c = c[c['main_category'] != 'Film & Video']\n",
    "c = c[c['main_category'] != 'Design']\n",
    "c = c[c['main_category'] != 'Photography']\n",
    "c = c[c['main_category'] != 'Art']\n",
    "c = c[c['main_category'] != 'Crafts']\n",
    "c = c[c['main_category'] != 'Journalism']\n",
    "c = c[c['main_category'] != 'Photography']\n",
    "c = c[c['main_category'] != 'Publishing']\n",
    "c = c[c['main_category'] != 'Theater']\n",
    "c = c[c['main_category'] != 'Comics']"
   ]
  },
  {
   "cell_type": "code",
   "execution_count": 52,
   "metadata": {},
   "outputs": [],
   "source": [
    "tsn = pd.DataFrame({'main_category': c['main_category'],\n",
    "    'Goal': c['usd_goal_real'],\n",
    "       'Pledged':c['usd_pledged_real'], \n",
    "       'Difference': (c['usd_pledged_real']-c['usd_goal_real']) })"
   ]
  },
  {
   "cell_type": "code",
   "execution_count": 53,
   "metadata": {},
   "outputs": [
    {
     "data": {
      "text/plain": [
       "<seaborn.axisgrid.FacetGrid at 0x1c3bede2e08>"
      ]
     },
     "execution_count": 53,
     "metadata": {},
     "output_type": "execute_result"
    },
    {
     "data": {
      "image/png": "[encoded data removed]",
      "text/plain": [
       "<Figure size 453.484x360 with 1 Axes>"
      ]
     },
     "metadata": {
      "needs_background": "light"
     },
     "output_type": "display_data"
    }
   ],
   "source": [
    "sns.lmplot(data=tsn, x='Goal', y='Pledged', hue='main_category') #plot for tech vs dance"
   ]
  },
  {
   "cell_type": "code",
   "execution_count": null,
   "metadata": {},
   "outputs": [],
   "source": []
  },
  {
   "cell_type": "code",
   "execution_count": null,
   "metadata": {},
   "outputs": [],
   "source": []
  },
  {
   "cell_type": "code",
   "execution_count": null,
   "metadata": {},
   "outputs": [],
   "source": []
  },
  {
   "cell_type": "code",
   "execution_count": null,
   "metadata": {},
   "outputs": [],
   "source": []
  },
  {
   "cell_type": "code",
   "execution_count": null,
   "metadata": {},
   "outputs": [],
   "source": []
  }
 ],
 "metadata": {
  "kernelspec": {
   "display_name": "Python 3",
   "language": "python",
   "name": "python3"
  },
  "language_info": {
   "codemirror_mode": {
    "name": "ipython",
    "version": 3
   },
   "file_extension": ".py",
   "mimetype": "text/x-python",
   "name": "python",
   "nbconvert_exporter": "python",
   "pygments_lexer": "ipython3",
   "version": "3.7.4"
  }
 },
 "nbformat": 4,
 "nbformat_minor": 2
}
