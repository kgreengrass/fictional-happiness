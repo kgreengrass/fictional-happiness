{
 "cells": [
  {
   "cell_type": "code",
   "execution_count": 2,
   "metadata": {},
   "outputs": [],
   "source": [
    "import numpy as np\n",
    "import pandas as pd\n",
    "import matplotlib.pyplot as plt\n",
    "import requests\n",
    "import seaborn as sns\n",
    "from datetime import datetime"
   ]
  },
  {
   "cell_type": "code",
   "execution_count": 3,
   "metadata": {},
   "outputs": [],
   "source": [
    "ks = pd.read_csv('ks-projects-201801.csv')"
   ]
  },
  {
   "cell_type": "code",
   "execution_count": 4,
   "metadata": {},
   "outputs": [],
   "source": [
    "tec = ks[ks['main_category'] == 'Technology']"
   ]
  },
  {
   "cell_type": "code",
   "execution_count": 5,
   "metadata": {},
   "outputs": [],
   "source": [
    "tecsuc = tec[tec['state'] == 'successful']"
   ]
  },
  {
   "cell_type": "code",
   "execution_count": 6,
   "metadata": {},
   "outputs": [],
   "source": [
    "tsl = tecsuc[tecsuc['usd_goal_real'] <= 498]\n"
   ]
  },
  {
   "cell_type": "code",
   "execution_count": 8,
   "metadata": {},
   "outputs": [],
   "source": [
    "tsn = pd.DataFrame({'Goal': tsl['usd_goal_real'],\n",
    "       'Pledged':tsl['usd_pledged_real'], \n",
    "       'Difference': (tsl['usd_pledged_real']-tsl['usd_goal_real']) })"
   ]
  },
  {
   "cell_type": "code",
   "execution_count": 33,
   "metadata": {},
   "outputs": [],
   "source": [
    "g1 = tsn[tsn['Goal'] <=32.2]\n",
    "g1 = g1[g1['Pledged'] <=870 ]\n",
    "g1m = g1['Difference'].mean()"
   ]
  },
  {
   "cell_type": "code",
   "execution_count": 46,
   "metadata": {},
   "outputs": [
    {
     "data": {
      "text/plain": [
       "127.3395"
      ]
     },
     "execution_count": 46,
     "metadata": {},
     "output_type": "execute_result"
    }
   ],
   "source": [
    "g2 = tsn[tsn['Goal'] >=32.2]\n",
    "g2 = g2[g2['Goal'] <=64.4]\n",
    "g2 = g2[g2['Pledged'] <=870 ]\n",
    "g2m = g2['Difference'].mean()"
   ]
  },
  {
   "cell_type": "code",
   "execution_count": 49,
   "metadata": {},
   "outputs": [],
   "source": [
    "g3 = tsn[tsn['Goal'] >=64.4]\n",
    "g3 = g3[g3['Goal'] <=96.6]\n",
    "g3 = g3[g3['Pledged'] <=870 ]\n",
    "g3m = g3['Difference'].mean()"
   ]
  },
  {
   "cell_type": "code",
   "execution_count": 50,
   "metadata": {},
   "outputs": [],
   "source": [
    "g4 = tsn[tsn['Goal'] >=96.6]\n",
    "g4 = g4[g4['Goal'] <=128.8]\n",
    "g4 = g4[g4['Pledged'] <=870 ]\n",
    "g4m = g4['Difference'].mean()"
   ]
  },
  {
   "cell_type": "code",
   "execution_count": 51,
   "metadata": {},
   "outputs": [],
   "source": [
    "g5 = tsn[tsn['Goal'] >=128.8]\n",
    "g5 = g5[g5['Goal'] <=161]\n",
    "g5 = g5[g5['Pledged'] <=870 ]\n",
    "g5m = g5['Difference'].mean()"
   ]
  },
  {
   "cell_type": "code",
   "execution_count": 52,
   "metadata": {},
   "outputs": [],
   "source": [
    "g6 = tsn[tsn['Goal'] >=161]\n",
    "g6 = g6[g6['Goal'] <=193.2]\n",
    "g6 = g6[g6['Pledged'] <=870 ]\n",
    "g6m = g6['Difference'].mean()"
   ]
  },
  {
   "cell_type": "code",
   "execution_count": 53,
   "metadata": {},
   "outputs": [],
   "source": [
    "g7 = tsn[tsn['Goal'] >=193.2]\n",
    "g7 = g7[g7['Goal'] <=225.4]\n",
    "g7 = g7[g7['Pledged'] <=870 ]\n",
    "g7m = g7['Difference'].mean()"
   ]
  },
  {
   "cell_type": "code",
   "execution_count": 54,
   "metadata": {},
   "outputs": [],
   "source": [
    "g8 = tsn[tsn['Goal'] >=225.4]\n",
    "g8 = g8[g8['Goal'] <=257.6]\n",
    "g8 = g8[g8['Pledged'] <=870 ]\n",
    "g8m = g8['Difference'].mean()"
   ]
  },
  {
   "cell_type": "code",
   "execution_count": 55,
   "metadata": {},
   "outputs": [],
   "source": [
    "g9 = tsn[tsn['Goal'] >=257.6]\n",
    "g9 = g9[g9['Goal'] <=289.8]\n",
    "g9 = g9[g9['Pledged'] <=870 ]\n",
    "g9m = g9['Difference'].mean()"
   ]
  },
  {
   "cell_type": "code",
   "execution_count": 56,
   "metadata": {},
   "outputs": [],
   "source": [
    "g10 = tsn[tsn['Goal'] >=289.8]\n",
    "g10= g10[g10['Pledged'] <=870 ]\n",
    "g10m = g10['Difference'].mean()"
   ]
  },
  {
   "cell_type": "code",
   "execution_count": 118,
   "metadata": {},
   "outputs": [],
   "source": [
    "list0 = [g1m, g2m, g3m, g4m, g5m, g6m, g7m, g8m, g9m, g10m]"
   ]
  },
  {
   "cell_type": "code",
   "execution_count": 75,
   "metadata": {},
   "outputs": [],
   "source": [
    "g11 = tsn[tsn['Goal'] <=32.2]\n",
    "g11= g11[g11['Pledged'] >=870 ]\n",
    "g11= g11[g11['Pledged'] <=1740 ]\n",
    "g11m = g11['Difference'].mean()"
   ]
  },
  {
   "cell_type": "code",
   "execution_count": 80,
   "metadata": {},
   "outputs": [],
   "source": [
    "g12 = tsn[tsn['Goal'] >=32.2]\n",
    "g12 = g12[g12['Goal'] <=64.4]\n",
    "g12= g12[g12['Pledged'] >=870 ]\n",
    "g12= g12[g12['Pledged'] <=1740 ]\n",
    "g12m = g12['Difference'].mean()"
   ]
  },
  {
   "cell_type": "code",
   "execution_count": 64,
   "metadata": {},
   "outputs": [],
   "source": [
    "g13 = tsn[tsn['Goal'] >=64.4]\n",
    "g13 = g13[g13['Goal'] <=96.6]\n",
    "g13= g13[g13['Pledged'] >=870 ]\n",
    "g13= g13[g13['Pledged'] <=1740 ]\n",
    "g13m = g13['Difference'].mean()"
   ]
  },
  {
   "cell_type": "code",
   "execution_count": 65,
   "metadata": {},
   "outputs": [],
   "source": [
    "g14 = tsn[tsn['Goal'] >=96.6]\n",
    "g14 = g14[g14['Goal'] <=128.8]\n",
    "g14= g14[g14['Pledged'] >=870 ]\n",
    "g14= g14[g14['Pledged'] <=1740 ]\n",
    "g14m = g14['Difference'].mean()"
   ]
  },
  {
   "cell_type": "code",
   "execution_count": 68,
   "metadata": {},
   "outputs": [],
   "source": [
    "g15 = tsn[tsn['Goal'] >=128.8]\n",
    "g15 = g15[g15['Goal'] <=161]\n",
    "g15= g15[g15['Pledged'] >=870 ]\n",
    "g15= g15[g15['Pledged'] <=1740 ]\n",
    "g15m = g15['Difference'].mean()"
   ]
  },
  {
   "cell_type": "code",
   "execution_count": 69,
   "metadata": {},
   "outputs": [],
   "source": [
    "g16 = tsn[tsn['Goal'] >=161]\n",
    "g16 = g16[g16['Goal'] <=193.2]\n",
    "g16= g16[g16['Pledged'] >=870 ]\n",
    "g16= g16[g16['Pledged'] <=1740 ]\n",
    "g16m = g16['Difference'].mean()"
   ]
  },
  {
   "cell_type": "code",
   "execution_count": 66,
   "metadata": {},
   "outputs": [],
   "source": [
    "g17 = tsn[tsn['Goal'] >=193.2]\n",
    "g17 = g17[g17['Goal'] <=225.4]\n",
    "g17= g17[g17['Pledged'] >=870 ]\n",
    "g17= g17[g17['Pledged'] <=1740 ]\n",
    "g17m = g17['Difference'].mean()"
   ]
  },
  {
   "cell_type": "code",
   "execution_count": 70,
   "metadata": {},
   "outputs": [],
   "source": [
    "g18 = tsn[tsn['Goal'] >=225.4]\n",
    "g18 = g18[g18['Goal'] <=257.6]\n",
    "g18= g18[g18['Pledged'] >=870 ]\n",
    "g18= g18[g18['Pledged'] <=1740 ]\n",
    "g18m = g18['Difference'].mean()"
   ]
  },
  {
   "cell_type": "code",
   "execution_count": 71,
   "metadata": {},
   "outputs": [],
   "source": [
    "g19 = tsn[tsn['Goal'] >=257.6]\n",
    "g19 = g19[g19['Goal'] <=289.8]\n",
    "g19= g19[g19['Pledged'] >=870 ]\n",
    "g19= g19[g19['Pledged'] <=1740 ]\n",
    "g19m = g19['Difference'].mean()"
   ]
  },
  {
   "cell_type": "code",
   "execution_count": 72,
   "metadata": {},
   "outputs": [],
   "source": [
    "g20 = tsn[tsn['Goal'] >=289.9]\n",
    "g20= g20[g20['Pledged'] >=870 ]\n",
    "g20= g20[g20['Pledged'] <=1740 ]\n",
    "g20m = g20['Difference'].mean()"
   ]
  },
  {
   "cell_type": "code",
   "execution_count": 117,
   "metadata": {},
   "outputs": [],
   "source": [
    "list1=[g11m, g12m, g13m, g14m, g15m, g16m, g17m, g18m, g19m, g20m]"
   ]
  },
  {
   "cell_type": "code",
   "execution_count": 102,
   "metadata": {},
   "outputs": [],
   "source": [
    "g21 = tsn[tsn['Goal'] <=32.2]\n",
    "g21= g21[g21['Pledged'] >=1740 ]\n",
    "g21= g21[g21['Pledged'] <=2610 ]\n",
    "g21m = g21['Difference'].mean()"
   ]
  },
  {
   "cell_type": "code",
   "execution_count": 103,
   "metadata": {},
   "outputs": [],
   "source": [
    "g22 = tsn[tsn['Goal'] >=32.2]\n",
    "g22 = g22[g22['Goal'] <=64.4]\n",
    "g22= g22[g22['Pledged'] >=1740]\n",
    "g22= g22[g22['Pledged'] <=2610  ]\n",
    "g22m = g22['Difference'].mean()"
   ]
  },
  {
   "cell_type": "code",
   "execution_count": 104,
   "metadata": {},
   "outputs": [],
   "source": [
    "g23 = tsn[tsn['Goal'] >=64.4]\n",
    "g23 = g23[g23['Goal'] <=96.6]\n",
    "g23= g23[g23['Pledged'] >=1740]\n",
    "g23= g23[g23['Pledged'] <=2610  ]\n",
    "g23m = g23['Difference'].mean()"
   ]
  },
  {
   "cell_type": "code",
   "execution_count": 105,
   "metadata": {},
   "outputs": [],
   "source": [
    "g24 = tsn[tsn['Goal'] >=96.6]\n",
    "g24 = g24[g24['Goal'] <=128.8]\n",
    "g24= g24[g24['Pledged'] >=1740]\n",
    "g24= g24[g24['Pledged'] <=2610  ]\n",
    "g24m = g24['Difference'].mean()"
   ]
  },
  {
   "cell_type": "code",
   "execution_count": 106,
   "metadata": {},
   "outputs": [],
   "source": [
    "g25 = tsn[tsn['Goal'] >=128.8]\n",
    "g25 = g25[g25['Goal'] <=161]\n",
    "g25= g25[g25['Pledged'] >=1740]\n",
    "g25= g25[g25['Pledged'] <=2610  ]\n",
    "g25m = g25['Difference'].mean()"
   ]
  },
  {
   "cell_type": "code",
   "execution_count": 107,
   "metadata": {},
   "outputs": [],
   "source": [
    "g26 = tsn[tsn['Goal'] >=161]\n",
    "g26 = g26[g26['Goal'] <=193.2]\n",
    "g26= g26[g26['Pledged'] >=1740]\n",
    "g26= g26[g26['Pledged'] <=2610  ]\n",
    "g26m = g26['Difference'].mean()"
   ]
  },
  {
   "cell_type": "code",
   "execution_count": 108,
   "metadata": {},
   "outputs": [],
   "source": [
    "g27 = tsn[tsn['Goal'] >=193.2]\n",
    "g27 = g27[g27['Goal'] <=225.4]\n",
    "g27= g27[g27['Pledged'] >=1740]\n",
    "g27= g27[g27['Pledged'] <=2610  ]\n",
    "g27m = g27['Difference'].mean()"
   ]
  },
  {
   "cell_type": "code",
   "execution_count": 109,
   "metadata": {},
   "outputs": [],
   "source": [
    "g28 = tsn[tsn['Goal'] >=225.4]\n",
    "g28 = g28[g28['Goal'] <=257.6]\n",
    "g28= g28[g28['Pledged'] >=1740]\n",
    "g28= g28[g28['Pledged'] <=2610  ]\n",
    "g28m = g28['Difference'].mean()"
   ]
  },
  {
   "cell_type": "code",
   "execution_count": 110,
   "metadata": {},
   "outputs": [],
   "source": [
    "g29 = tsn[tsn['Goal'] >=257.6]\n",
    "g29 = g29[g29['Goal'] <=289.8]\n",
    "g29= g29[g29['Pledged'] >=1740]\n",
    "g29= g29[g29['Pledged'] <=2610  ]\n",
    "g29m = g29['Difference'].mean()"
   ]
  },
  {
   "cell_type": "code",
   "execution_count": 111,
   "metadata": {},
   "outputs": [],
   "source": [
    "g30 = tsn[tsn['Goal'] >=289.9]\n",
    "g30= g30[g30['Pledged'] >=1740 ]\n",
    "g30= g30[g30['Pledged'] <=2610  ]\n",
    "g30m = g30['Difference'].mean()"
   ]
  },
  {
   "cell_type": "code",
   "execution_count": 116,
   "metadata": {},
   "outputs": [],
   "source": [
    "list2=[g21m, g22m, g23m, g24m, g25m, g26m, g27m, g28m, g29m, g30m]"
   ]
  },
  {
   "cell_type": "code",
   "execution_count": 113,
   "metadata": {},
   "outputs": [],
   "source": [
    "g31 = tsn[tsn['Goal'] <=32.2]\n",
    "g31= g31[g31['Pledged'] >=3480 ]\n",
    "g31= g31[g31['Pledged'] <=4350 ]\n",
    "g31m = g31['Difference'].mean()\n",
    "\n",
    "g32 = tsn[tsn['Goal'] >=32.2]\n",
    "g32 = g32[g32['Goal'] <=64.4]\n",
    "g32= g32[g32['Pledged'] >=3480]\n",
    "g32= g32[g32['Pledged'] <=4350 ]\n",
    "g32m = g32['Difference'].mean()\n",
    "\n",
    "g33 = tsn[tsn['Goal'] >=64.4]\n",
    "g33 = g33[g33['Goal'] <=96.6]\n",
    "g33= g33[g33['Pledged'] >=3480]\n",
    "g33= g33[g33['Pledged'] <=4350 ]\n",
    "g33m = g33['Difference'].mean()\n",
    "\n",
    "g34 = tsn[tsn['Goal'] >=96.6]\n",
    "g34 = g34[g34['Goal'] <=128.8]\n",
    "g34= g34[g34['Pledged'] >=3480]\n",
    "g34= g34[g34['Pledged'] <=4350 ]\n",
    "g34m = g34['Difference'].mean()\n",
    "\n",
    "g35 = tsn[tsn['Goal'] >=128.8]\n",
    "g35 = g35[g35['Goal'] <=161]\n",
    "g35= g35[g35['Pledged'] >=3480]\n",
    "g35= g35[g35['Pledged'] <=4350 ]\n",
    "g35m = g35['Difference'].mean()\n",
    "\n",
    "g36 = tsn[tsn['Goal'] >=161]\n",
    "g36 = g36[g36['Goal'] <=193.2]\n",
    "g36= g36[g36['Pledged'] >=3480]\n",
    "g36= g36[g36['Pledged'] <=4350 ]\n",
    "g36m = g36['Difference'].mean()\n",
    "\n",
    "g37 = tsn[tsn['Goal'] >=193.2]\n",
    "g37 = g37[g37['Goal'] <=235.4]\n",
    "g37= g37[g37['Pledged'] >=3480]\n",
    "g37= g37[g37['Pledged'] <=4350 ]\n",
    "g37m = g37['Difference'].mean()\n",
    "\n",
    "g38 = tsn[tsn['Goal'] >=235.4]\n",
    "g38 = g38[g38['Goal'] <=357.6]\n",
    "g38 = g38[g38['Pledged'] >=3480]\n",
    "g38 =  g38[g38['Pledged'] <=4350 ]\n",
    "g38m  = g38['Difference'].mean()\n",
    "\n",
    "g39 = tsn[tsn['Goal'] >=357.6]\n",
    "g39 = g39 [g39['Goal'] <=289.8]\n",
    "g39 = g39 [g39['Pledged'] >=3480]\n",
    "g39 = g39 [g39['Pledged'] <=4350 ]\n",
    "g39m = g39 ['Difference'].mean()\n",
    "\n",
    "g40 = tsn[tsn['Goal'] >=289.9]\n",
    "g40= g40[g40['Pledged'] >=3480 ]\n",
    "g40= g40[g40['Pledged'] <=4350 ]\n",
    "g40m = g40['Difference'].mean()"
   ]
  },
  {
   "cell_type": "code",
   "execution_count": 115,
   "metadata": {},
   "outputs": [],
   "source": [
    "list3=[g31m, g32m, g33m, g34m, g35m, g36m, g37m, g38m, g39m, g40m]"
   ]
  },
  {
   "cell_type": "code",
   "execution_count": 121,
   "metadata": {},
   "outputs": [],
   "source": [
    "g41 = tsn[tsn['Goal'] <=32.2]\n",
    "g41= g41[g41['Pledged'] >=4350 ]\n",
    "g41= g41[g41['Pledged'] <=5220 ]\n",
    "g41m = g41['Difference'].mean()\n",
    "\n",
    "g42 = tsn[tsn['Goal'] >=32.2]\n",
    "g42 = g42[g42['Goal'] <=64.4]\n",
    "g42= g42[g42['Pledged'] >=4350]\n",
    "g42= g42[g42['Pledged'] <=5220 ]\n",
    "g42m = g42['Difference'].mean()\n",
    "\n",
    "g43 = tsn[tsn['Goal'] >=64.4]\n",
    "g43 = g43[g43['Goal'] <=96.6]\n",
    "g43= g43[g43['Pledged'] >=4350]\n",
    "g43= g43[g43['Pledged'] <=5220 ]\n",
    "g43m = g43['Difference'].mean()\n",
    "\n",
    "g44 = tsn[tsn['Goal'] >=96.6]\n",
    "g44 = g44[g44['Goal'] <=128.8]\n",
    "g44= g44[g44['Pledged'] >=4350]\n",
    "g44= g44[g44['Pledged'] <=5220 ]\n",
    "g44m = g44['Difference'].mean()\n",
    "\n",
    "g45 = tsn[tsn['Goal'] >=128.8]\n",
    "g45 = g45 [g45 ['Goal'] <=161]\n",
    "g45 = g45 [g45 ['Pledged'] >=4350]\n",
    "g45 = g45 [g45 ['Pledged'] <=5220 ]\n",
    "g45m = g45 ['Difference'].mean()\n",
    "\n",
    "g46 = tsn[tsn['Goal'] >=161]\n",
    "g46 = g46[g46['Goal'] <=193.2]\n",
    "g46= g46[g46['Pledged'] >=4350]\n",
    "g46= g46[g46['Pledged'] <=5220 ]\n",
    "g46m = g46['Difference'].mean()\n",
    "\n",
    "g47 = tsn[tsn['Goal'] >=193.2]\n",
    "g47 = g47[g47['Goal'] <=235.4]\n",
    "g47= g47[g47['Pledged'] >=4350]\n",
    "g47= g47[g47['Pledged'] <=5220 ]\n",
    "g47m = g47['Difference'].mean()\n",
    "\n",
    "g48 = tsn[tsn['Goal'] >=235.4]\n",
    "g48 = g48[g48['Goal'] <=357.6]\n",
    "g48 = g48[g48['Pledged'] >=4350]\n",
    "g48 =  g48[g48['Pledged'] <=5220 ]\n",
    "g48m  = g48['Difference'].mean()\n",
    "\n",
    "g49 = tsn[tsn['Goal'] >=357.6]\n",
    "g49 = g49 [g49['Goal'] <=289.8]\n",
    "g49 = g49 [g49['Pledged'] >=4350]\n",
    "g49 = g49 [g49['Pledged'] <=5220 ]\n",
    "g49m = g49 ['Difference'].mean()\n",
    "\n",
    "g50 = tsn[tsn['Goal'] >=289.9]\n",
    "g50= g50[g50['Pledged'] >=4350 ]\n",
    "g50= g50[g50['Pledged'] <=5220 ]\n",
    "g50m = g50['Difference'].mean()"
   ]
  },
  {
   "cell_type": "code",
   "execution_count": 122,
   "metadata": {},
   "outputs": [],
   "source": [
    "list4=[g41m, g42m, g43m, g44m, g45m, g46m, g47m, g48m, g49m, g50m]"
   ]
  },
  {
   "cell_type": "code",
   "execution_count": 123,
   "metadata": {},
   "outputs": [],
   "source": [
    "g51 = tsn[tsn['Goal'] <=32.2]\n",
    "g51= g51[g51['Pledged'] >=4360 ]\n",
    "g51= g51[g51['Pledged'] <=6090 ]\n",
    "g51m = g51['Difference'].mean()\n",
    "\n",
    "g52 = tsn[tsn['Goal'] >=32.2]\n",
    "g52 = g52[g52['Goal'] <=64.4]\n",
    "g52= g52[g52['Pledged'] >=4350]\n",
    "g52= g52[g52['Pledged'] <=6090 ]\n",
    "g52m = g52['Difference'].mean()\n",
    "\n",
    "g53= tsn[tsn['Goal'] >=64.4]\n",
    "g53= g53[g53['Goal'] <=96.6]\n",
    "g53= g53[g53['Pledged'] >=4350]\n",
    "g53= g53[g53['Pledged'] <=6090 ]\n",
    "g53m = g53['Difference'].mean()\n",
    "\n",
    "g54 = tsn[tsn['Goal'] >=96.6]\n",
    "g54 = g54[g54['Goal'] <=128.8]\n",
    "g54 = g54[g54['Pledged'] >=4350]\n",
    "g54 = g54[g54['Pledged'] <=6090 ]\n",
    "g54m = g54['Difference'].mean()\n",
    "\n",
    "g55 = tsn[tsn['Goal'] >=128.8]\n",
    "g55 = g55 [g55 ['Goal'] <=161]\n",
    "g55 = g55 [g55 ['Pledged'] >=4350]\n",
    "g55 = g55 [g55 ['Pledged'] <=6090 ]\n",
    "g55m = g55 ['Difference'].mean()\n",
    "\n",
    "g56 = tsn[tsn['Goal'] >=161]\n",
    "g56 = g56[g56['Goal'] <=193.2]\n",
    "g56= g56[g56['Pledged'] >=4350]\n",
    "g56= g56[g56['Pledged'] <=6090 ]\n",
    "g56m = g56['Difference'].mean()\n",
    "\n",
    "g57 = tsn[tsn['Goal'] >=193.2]\n",
    "g57 = g57[g57['Goal'] <=235.4]\n",
    "g57= g57[g57['Pledged'] >=4350]\n",
    "g57= g57[g57['Pledged'] <=6090 ]\n",
    "g57m = g57['Difference'].mean()\n",
    "\n",
    "g58 = tsn[tsn['Goal'] >=235.4]\n",
    "g58 = g58[g58['Goal'] <=357.6]\n",
    "g58 = g58[g58['Pledged'] >=4350]\n",
    "g58 =  g58[g58['Pledged'] <=6090 ]\n",
    "g58m  = g58['Difference'].mean()\n",
    "\n",
    "g59 = tsn[tsn['Goal'] >=357.6]\n",
    "g59 = g59 [g59['Goal'] <=289.8]\n",
    "g59 = g59 [g59['Pledged'] >=4350]\n",
    "g59 = g59 [g59['Pledged'] <=6090 ]\n",
    "g59m = g59 ['Difference'].mean()\n",
    "\n",
    "g60 = tsn[tsn['Goal'] >=289.9]\n",
    "g60 = g60 [g60 ['Pledged'] >=4360 ]\n",
    "g60 = g60 [g60 ['Pledged'] <=6090 ]\n",
    "g60m = g60 ['Difference'].mean()"
   ]
  },
  {
   "cell_type": "code",
   "execution_count": 124,
   "metadata": {},
   "outputs": [],
   "source": [
    "list5=[g51m, g52m, g53m, g54m, g55m, g56m, g57m, g58m, g59m, g60m]"
   ]
  },
  {
   "cell_type": "code",
   "execution_count": 125,
   "metadata": {},
   "outputs": [],
   "source": [
    "g61 = tsn[tsn['Goal'] <=32.2]\n",
    "g61= g61[g61['Pledged'] >=4360 ]\n",
    "g61= g61[g61['Pledged'] <=6960 ]\n",
    "g61m = g61['Difference'].mean()\n",
    "\n",
    "g62 = tsn[tsn['Goal'] >=32.2]\n",
    "g62 = g62[g62['Goal'] <=64.4]\n",
    "g62= g62[g62['Pledged'] >=6090]\n",
    "g62= g62[g62['Pledged'] <=6960 ]\n",
    "g62m = g62['Difference'].mean()\n",
    "\n",
    "g63= tsn[tsn['Goal'] >=64.4]\n",
    "g63= g63[g63['Goal'] <=96.6]\n",
    "g63= g63[g63['Pledged'] >=6090]\n",
    "g63= g63[g63['Pledged'] <=6960 ]\n",
    "g63m = g63['Difference'].mean()\n",
    "\n",
    "g64 = tsn[tsn['Goal'] >=96.6]\n",
    "g64 = g64[g64['Goal'] <=128.8]\n",
    "g64 = g64[g64['Pledged'] >=6090]\n",
    "g64 = g64[g64['Pledged'] <=6960 ]\n",
    "g64m = g64['Difference'].mean()\n",
    "\n",
    "g65 = tsn[tsn['Goal'] >=128.8]\n",
    "g65 = g65 [g65 ['Goal'] <=161]\n",
    "g65 = g65 [g65 ['Pledged'] >=6090]\n",
    "g65 = g65 [g65 ['Pledged'] <=6960 ]\n",
    "g65m = g65 ['Difference'].mean()\n",
    "\n",
    "g66 = tsn[tsn['Goal'] >=161]\n",
    "g66 = g66[g66['Goal'] <=193.2]\n",
    "g66= g66[g66['Pledged'] >=6090]\n",
    "g66= g66[g66['Pledged'] <=6960 ]\n",
    "g66m = g66['Difference'].mean()\n",
    "\n",
    "g67= tsn[tsn['Goal'] >=193.2]\n",
    "g67= g67[g67['Goal'] <=235.4]\n",
    "g67= g67[g67['Pledged'] >=6090]\n",
    "g67= g67[g67['Pledged'] <=6960 ]\n",
    "g67m = g67['Difference'].mean()\n",
    "\n",
    "g68 = tsn[tsn['Goal'] >=235.4]\n",
    "g68 = g68[g68['Goal'] <=357.6]\n",
    "g68 = g68[g68['Pledged'] >=6090]\n",
    "g68 =  g68[g68['Pledged'] <=6960 ]\n",
    "g68m  = g68['Difference'].mean()\n",
    "\n",
    "g69 = tsn[tsn['Goal'] >=357.6]\n",
    "g69 = g69 [g69['Goal'] <=289.8]\n",
    "g69 = g69 [g69['Pledged'] >=6090]\n",
    "g69 = g69 [g69['Pledged'] <=6960 ]\n",
    "g69m = g69 ['Difference'].mean()\n",
    "\n",
    "g70 = tsn[tsn['Goal'] >=289.9]\n",
    "g70 = g70 [g70 ['Pledged'] >=4360 ]\n",
    "g70 = g70 [g70 ['Pledged'] <=6960 ]\n",
    "g70m = g70 ['Difference'].mean()"
   ]
  },
  {
   "cell_type": "code",
   "execution_count": 126,
   "metadata": {},
   "outputs": [],
   "source": [
    "list6=[g61m, g62m, g63m, g64m, g65m, g66m, g67m, g68m, g69m, g70m]"
   ]
  },
  {
   "cell_type": "code",
   "execution_count": null,
   "metadata": {},
   "outputs": [],
   "source": []
  }
 ],
 "metadata": {
  "kernelspec": {
   "display_name": "Python 3",
   "language": "python",
   "name": "python3"
  },
  "language_info": {
   "codemirror_mode": {
    "name": "ipython",
    "version": 3
   },
   "file_extension": ".py",
   "mimetype": "text/x-python",
   "name": "python",
   "nbconvert_exporter": "python",
   "pygments_lexer": "ipython3",
   "version": "3.7.4"
  }
 },
 "nbformat": 4,
 "nbformat_minor": 2
}
